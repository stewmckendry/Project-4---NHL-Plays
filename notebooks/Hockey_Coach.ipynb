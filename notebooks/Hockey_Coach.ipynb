{
 "cells": [
  {
   "cell_type": "markdown",
   "metadata": {},
   "source": [
    "# **Section 1: Setups and Imports** <a id=\"1\"></a>"
   ]
  },
  {
   "cell_type": "code",
   "execution_count": 1,
   "metadata": {},
   "outputs": [],
   "source": [
    "# 🚀 Always run this cell first! It contains all necessary imports.\n",
    "import gc\n",
    "import sys\n",
    "import pprint\n",
    "import os\n",
    "\n",
    "import requests\n",
    "import json\n",
    "\n",
    "import numpy as np\n",
    "import pandas as pd\n",
    "import matplotlib.pyplot as plt\n",
    "import seaborn as sns\n",
    "\n",
    "import pickle\n",
    "import joblib\n",
    "\n",
    "import gym # openai gym\n",
    "from gym import spaces\n",
    "\n",
    "import torch\n",
    "import torch.nn as nn\n",
    "import torch.optim as optim\n",
    "\n",
    "import random\n",
    "\n",
    "import csv"
   ]
  },
  {
   "cell_type": "markdown",
   "metadata": {},
   "source": [
    "# **Section 2: Functions** <a id=\"2\"></a>"
   ]
  },
  {
   "cell_type": "markdown",
   "metadata": {},
   "source": [
    "## **2.1. Domain Functions** <a id=\"2.1\"></a>"
   ]
  },
  {
   "cell_type": "markdown",
   "metadata": {},
   "source": [
    "## **2.2. Utility Functions** <a id=\"2.2\"></a>"
   ]
  },
  {
   "cell_type": "markdown",
   "metadata": {},
   "source": [
    "# **Section 3: Load Data** <a id=\"3\"></a>"
   ]
  },
  {
   "cell_type": "code",
   "execution_count": 2,
   "metadata": {},
   "outputs": [
    {
     "name": "stdout",
     "output_type": "stream",
     "text": [
      "Data saved to nhl_play_by_play.csv\n"
     ]
    }
   ],
   "source": [
    "# Example NHL play-by-play API URL (game ID will change per game)\n",
    "game_id = \"2022030411\"  # Change this to other game IDs if needed\n",
    "url = f\"https://api-web.nhle.com/v1/gamecenter/{game_id}/play-by-play\"\n",
    "\n",
    "# Fetch data from API\n",
    "response = requests.get(url)\n",
    "if response.status_code == 200:\n",
    "    data = response.json()\n",
    "    \n",
    "    # Extract relevant events\n",
    "    events = data.get(\"plays\", [])\n",
    "    away_Team = data.get(\"awayTeam\", [])\n",
    "    home_Team = data.get(\"homeTeam\", [])\n",
    "    extracted_data = []\n",
    "\n",
    "    for event in events:\n",
    "        event_details = event.get(\"details\", {})\n",
    "        event_data = {\n",
    "            \"eventId\": event.get(\"eventId\"),\n",
    "            \"period\": event.get(\"periodDescriptor\", {}).get(\"number\"),\n",
    "            \"time\": event.get(\"timeInPeriod\"),\n",
    "            \"away_team\": away_Team.get(\"abbrev\"),\n",
    "            \"home_team\": home_Team.get(\"abbrev\"),\n",
    "            \"home_team_side\": event.get(\"homeTeamDefendingSide\"),\n",
    "            \"eventType\": event.get(\"typeDescKey\"),\n",
    "        }\n",
    "        # Add event details to event_data\n",
    "        if event_details:\n",
    "            for key, value in event_details.items():\n",
    "                event_data[key] = value\n",
    "        \n",
    "        extracted_data.append(event_data)\n",
    "\n",
    "    # Convert to DataFrame\n",
    "    df = pd.DataFrame(extracted_data)\n",
    "\n",
    "    # Save to CSV\n",
    "    df.to_csv(\"../data/csv/nhl_play_by_play.csv\", index=False)\n",
    "    print(\"Data saved to nhl_play_by_play.csv\")\n",
    "\n",
    "else:\n",
    "    print(\"Failed to retrieve data from NHL API. Status code:\", response.status_code)\n"
   ]
  },
  {
   "cell_type": "code",
   "execution_count": 3,
   "metadata": {},
   "outputs": [
    {
     "name": "stdout",
     "output_type": "stream",
     "text": [
      "List of eventType: ['period-start' 'faceoff' 'hit' 'blocked-shot' 'stoppage' 'takeaway'\n",
      " 'giveaway' 'shot-on-goal' 'missed-shot' 'penalty' 'goal'\n",
      " 'delayed-penalty' 'period-end' 'game-end']\n"
     ]
    }
   ],
   "source": [
    "print(f\"List of eventType: {df['eventType'].unique()}\")"
   ]
  },
  {
   "cell_type": "code",
   "execution_count": 4,
   "metadata": {},
   "outputs": [
    {
     "name": "stdout",
     "output_type": "stream",
     "text": [
      "List of eventType after filtering: ['hit' 'blocked-shot' 'takeaway' 'giveaway' 'shot-on-goal' 'missed-shot'\n",
      " 'goal']\n",
      "eventType\n",
      "hit             65\n",
      "shot-on-goal    62\n",
      "missed-shot     33\n",
      "blocked-shot    27\n",
      "giveaway        27\n",
      "takeaway        21\n",
      "goal             7\n",
      "Name: count, dtype: int64\n"
     ]
    }
   ],
   "source": [
    "# Define relevant play-driving events\n",
    "play_events = [\"shot-on-goal\", \n",
    "               \"hit\", \n",
    "               \"blocked-shot\", \n",
    "               \"takeaway\", \n",
    "               \"giveaway\", \n",
    "               \"missed-shot\",\n",
    "               \"goal\"] # goal is kept for reward calculation only; it is not an action choice, its an outcome\n",
    "\n",
    "# Filter dataset to keep only these events\n",
    "df_filtered = df[df[\"eventType\"].str.lower().isin(play_events)]\n",
    "\n",
    "\n",
    "event_counts = df_filtered['eventType'].value_counts()\n",
    "\n",
    "#print list of eventType and their counts\n",
    "print(f\"List of eventType after filtering: {df_filtered['eventType'].unique()}\")\n",
    "print(event_counts)\n",
    "\n"
   ]
  },
  {
   "cell_type": "code",
   "execution_count": 5,
   "metadata": {},
   "outputs": [
    {
     "name": "stdout",
     "output_type": "stream",
     "text": [
      "List of eventType after replacing shot-on-goal and missed-shot: ['hit' 'blocked-shot' 'takeaway' 'giveaway' 'shot' 'goal']\n",
      "eventType\n",
      "shot            95\n",
      "hit             65\n",
      "blocked-shot    27\n",
      "giveaway        27\n",
      "takeaway        21\n",
      "goal             7\n",
      "Name: count, dtype: int64\n"
     ]
    },
    {
     "name": "stderr",
     "output_type": "stream",
     "text": [
      "/var/folders/mj/ndpf249j5rn7jzxyb81srz4w0000gn/T/ipykernel_13333/1488009163.py:3: SettingWithCopyWarning: \n",
      "A value is trying to be set on a copy of a slice from a DataFrame.\n",
      "Try using .loc[row_indexer,col_indexer] = value instead\n",
      "\n",
      "See the caveats in the documentation: https://pandas.pydata.org/pandas-docs/stable/user_guide/indexing.html#returning-a-view-versus-a-copy\n",
      "  df_filtered[\"eventType\"] = df_filtered[\"eventType\"].replace(\n"
     ]
    }
   ],
   "source": [
    "# Replace \"shot-on-goal\" and \"missed-shot\" with \"shot\"\n",
    "# Both actions will be treated the same - a person doesn't choose to miss a shot, thats an outcome.  We will reward more if shot leads to a goal\n",
    "df_filtered[\"eventType\"] = df_filtered[\"eventType\"].replace(\n",
    "    [\"shot-on-goal\", \"missed-shot\"], \"shot\"\n",
    ")\n",
    "\n",
    "print(f\"List of eventType after replacing shot-on-goal and missed-shot: {df_filtered['eventType'].unique()}\")\n",
    "event_counts = df_filtered['eventType'].value_counts()\n",
    "print(event_counts)"
   ]
  },
  {
   "cell_type": "code",
   "execution_count": 6,
   "metadata": {},
   "outputs": [
    {
     "name": "stdout",
     "output_type": "stream",
     "text": [
      "List of eventType after removing giveaway: ['hit' 'blocked-shot' 'takeaway' 'shot' 'goal']\n",
      "eventType\n",
      "shot            95\n",
      "hit             65\n",
      "blocked-shot    27\n",
      "takeaway        21\n",
      "goal             7\n",
      "Name: count, dtype: int64\n"
     ]
    }
   ],
   "source": [
    "# remove giveaway event\n",
    "df_filtered = df_filtered[df_filtered[\"eventType\"] != \"giveaway\"]\n",
    "\n",
    "print(f\"List of eventType after removing giveaway: {df_filtered['eventType'].unique()}\")\n",
    "event_counts = df_filtered['eventType'].value_counts()\n",
    "print(event_counts)"
   ]
  },
  {
   "cell_type": "code",
   "execution_count": 7,
   "metadata": {},
   "outputs": [
    {
     "name": "stdout",
     "output_type": "stream",
     "text": [
      "Index(['eventId', 'period', 'time', 'away_team', 'home_team', 'home_team_side',\n",
      "       'eventType', 'eventOwnerTeamId', 'losingPlayerId', 'winningPlayerId',\n",
      "       'xCoord', 'yCoord', 'zoneCode', 'hittingPlayerId', 'hitteePlayerId',\n",
      "       'blockingPlayerId', 'shootingPlayerId', 'reason', 'playerId',\n",
      "       'shotType', 'goalieInNetId', 'awaySOG', 'homeSOG', 'secondaryReason',\n",
      "       'typeCode', 'descKey', 'duration', 'committedByPlayerId',\n",
      "       'drawnByPlayerId', 'scoringPlayerId', 'scoringPlayerTotal',\n",
      "       'assist1PlayerId', 'assist1PlayerTotal', 'awayScore', 'homeScore',\n",
      "       'discreteClip', 'assist2PlayerId', 'assist2PlayerTotal',\n",
      "       'servedByPlayerId'],\n",
      "      dtype='object')\n"
     ]
    }
   ],
   "source": [
    "#print df_filtered columns\n",
    "print(df_filtered.columns)"
   ]
  },
  {
   "cell_type": "code",
   "execution_count": 8,
   "metadata": {},
   "outputs": [
    {
     "name": "stdout",
     "output_type": "stream",
     "text": [
      "{32: 'QUE', 8: 'MTL', 58: 'TSP', 7: 'BUF', 46: 'OAK', 48: 'KCS', 2: 'NYI', 36: 'SEN', 70: 'TBD', 11: 'ATL', 45: 'SLE', 33: 'WIN', 28: 'SJS', 42: 'QBD', 29: 'CBJ', 53: 'ARI', 5: 'PIT', 13: 'FLA', 12: 'CAR', 54: 'VGK', 25: 'DAL', 52: 'WPG', 14: 'TBL', 59: 'UTA', 18: 'NSH', 27: 'PHX', 41: 'MWN', 39: 'QUA', 37: 'HAM', 40: 'DCG', 35: 'CLR', 38: 'PIR', 34: 'HFD', 4: 'PHI', 1: 'NJD', 9: 'OTT', 21: 'COL', 44: 'NYA', 55: 'SEA', 15: 'WSH', 24: 'ANA', 31: 'MNS', 26: 'LAK', 23: 'VAN', 99: 'NHL', 30: 'MIN', 43: 'MMR', 49: 'CLE', 51: 'BRK', 50: 'DFL', 56: 'CGS', 10: 'TOR', 3: 'NYR', 22: 'EDM', 47: 'AFM', 57: 'TAN', 20: 'CGY', 6: 'BOS', 19: 'STL', 16: 'CHI', 17: 'DET'}\n",
      "Updating dataset with team names...\n",
      "All team IDs are accounted for.\n",
      "Team distribution in the dataset:\n",
      "eventOwnerTeam\n",
      "FLA    109\n",
      "VGK    106\n",
      "Name: count, dtype: int64\n"
     ]
    }
   ],
   "source": [
    "# Map the eventOwnerTeamID (i.e. who initiated the action) from ID to a more readable team name\n",
    "# Retrieve ID:Team mapping from the NHL API\n",
    "\n",
    "import requests\n",
    "\n",
    "response = requests.get(\"https://api.nhle.com/stats/rest/en/team\")\n",
    "data = response.json()\n",
    "team_data = data.get(\"data\", [])\n",
    "team_id_map = {team[\"id\"]: team[\"triCode\"] for team in team_data}\n",
    "\n",
    "print(team_id_map)\n",
    "\n",
    "print(\"Updating dataset with team names...\")\n",
    "df_filtered[\"eventOwnerTeam\"] = df_filtered[\"eventOwnerTeamId\"].map(team_id_map)\n",
    "df_filtered = df_filtered.drop(columns=[\"eventOwnerTeamId\"])\n",
    "\n",
    "missing_teams = df_filtered[df_filtered[\"eventOwnerTeam\"].isnull()]\n",
    "if not missing_teams.empty:\n",
    "    print(\"Missing team IDs for the following events:\")\n",
    "    print(missing_teams)\n",
    "else:\n",
    "    print(\"All team IDs are accounted for.\")\n",
    "    \n",
    "team_distribution = df_filtered[\"eventOwnerTeam\"].value_counts()\n",
    "print(\"Team distribution in the dataset:\")\n",
    "print(team_distribution)\n"
   ]
  },
  {
   "cell_type": "code",
   "execution_count": 9,
   "metadata": {},
   "outputs": [
    {
     "name": "stdout",
     "output_type": "stream",
     "text": [
      "Size of original dataset: (215, 39)\n",
      "Size of synthetic dataset: 124\n",
      "Size of combined dataset: (339, 39)\n"
     ]
    }
   ],
   "source": [
    "# Post-processing: add synthetic actions like pass, carry-in, or dump-in between events\n",
    "# Why? → This ensures AI learns logical movement patterns.\n",
    "# These synthetic actions will be added as new rows to the dataset\n",
    "\n",
    "import pandas as pd\n",
    "import numpy as np\n",
    "\n",
    "# Create a new DataFrame to store synthetic actions\n",
    "synthetic_actions = []\n",
    "\n",
    "# Iterate through each event in the filtered DataFrame\n",
    "# and generate synthetic actions based on the eventOwnerTeam and X Coord\n",
    "for i in range(len(df_filtered) - 1):\n",
    "    current_event = df_filtered.iloc[i]\n",
    "    next_event = df_filtered.iloc[i + 1]\n",
    "\n",
    "    # Check if the same team has possession in consecutive events\n",
    "    if current_event[\"eventOwnerTeam\"] == next_event[\"eventOwnerTeam\"]:\n",
    "        x_diff = abs(next_event[\"xCoord\"] - current_event[\"xCoord\"])\n",
    "\n",
    "        if x_diff > 20:\n",
    "            action = \"carry-in\"\n",
    "            x_coord = current_event[\"xCoord\"] + 10  # Example increment\n",
    "        else:\n",
    "            action = \"pass\"\n",
    "            x_coord = current_event[\"xCoord\"] + 2  # Example increment\n",
    "\n",
    "        # Add small random variability to Y-coordinate\n",
    "        y_coord = current_event[\"yCoord\"] + np.random.randint(-3, 3)  # Add small random variability to Y-coordinate\n",
    "\n",
    "        # Calculate time halfway between current_event and next_event\n",
    "        current_time = int(current_event[\"time\"].split(\":\")[0]) * 60 + int(current_event[\"time\"].split(\":\")[1])\n",
    "        next_time = int(next_event[\"time\"].split(\":\")[0]) * 60 + int(next_event[\"time\"].split(\":\")[1])\n",
    "        halfway_time = (current_time + next_time) // 2\n",
    "        time = f\"{halfway_time // 60:02}:{halfway_time % 60:02}\"\n",
    "\n",
    "        synthetic_event = {\n",
    "            \"eventId\": None,  # Assign a unique identifier if necessary\n",
    "            \"eventType\": action,\n",
    "            \"xCoord\": x_coord,\n",
    "            \"yCoord\": y_coord,\n",
    "            \"period\": current_event[\"period\"],\n",
    "            \"time\": time,\n",
    "            \"eventOwnerTeam\": current_event[\"eventOwnerTeam\"],\n",
    "            \"away_team\": current_event[\"away_team\"],\n",
    "            \"home_team\": current_event[\"home_team\"],\n",
    "            \"home_team_side\": current_event[\"home_team_side\"],\n",
    "            \"zoneCode\": current_event[\"zoneCode\"]\n",
    "        }\n",
    "\n",
    "        synthetic_actions.append(synthetic_event)\n",
    "\n",
    "# Convert the list of synthetic actions to a DataFrame\n",
    "synthetic_actions_df = pd.DataFrame(synthetic_actions, columns=df_filtered.columns)\n",
    "\n",
    "# Combine the original DataFrame with the synthetic actions\n",
    "df_combined = pd.concat([df_filtered, synthetic_actions_df]).sort_values(by=[\"period\", \"time\"]).reset_index(drop=True)\n",
    "\n",
    "print(f\"Size of original dataset: {df_filtered.shape}\")\n",
    "print(f\"Size of synthetic dataset: {len(synthetic_actions)}\")\n",
    "print(f\"Size of combined dataset: {df_combined.shape}\")\n"
   ]
  },
  {
   "cell_type": "code",
   "execution_count": 10,
   "metadata": {},
   "outputs": [
    {
     "name": "stdout",
     "output_type": "stream",
     "text": [
      "List of eventType in synthetic_actions_df: ['carry-in' 'pass']\n",
      "eventType\n",
      "carry-in    70\n",
      "pass        54\n",
      "Name: count, dtype: int64\n",
      "List of eventType in df_combined: ['hit' 'carry-in' 'pass' 'blocked-shot' 'takeaway' 'shot' 'goal']\n",
      "eventType\n",
      "shot            95\n",
      "carry-in        70\n",
      "hit             65\n",
      "pass            54\n",
      "blocked-shot    27\n",
      "takeaway        21\n",
      "goal             7\n",
      "Name: count, dtype: int64\n"
     ]
    }
   ],
   "source": [
    "# print list of event types in synthetic_actions_df\n",
    "print(f\"List of eventType in synthetic_actions_df: {synthetic_actions_df['eventType'].unique()}\")\n",
    "event_counts = synthetic_actions_df['eventType'].value_counts()\n",
    "print(event_counts)\n",
    "\n",
    "# print list of event types in df_combined\n",
    "print(f\"List of eventType in df_combined: {df_combined['eventType'].unique()}\")\n",
    "event_counts = df_combined['eventType'].value_counts()\n",
    "print(event_counts)"
   ]
  },
  {
   "cell_type": "code",
   "execution_count": 11,
   "metadata": {},
   "outputs": [
    {
     "name": "stdout",
     "output_type": "stream",
     "text": [
      "List of columns: Index(['eventId', 'period', 'time', 'away_team', 'home_team', 'home_team_side',\n",
      "       'eventType', 'losingPlayerId', 'winningPlayerId', 'xCoord', 'yCoord',\n",
      "       'zoneCode', 'hittingPlayerId', 'hitteePlayerId', 'blockingPlayerId',\n",
      "       'shootingPlayerId', 'reason', 'playerId', 'shotType', 'goalieInNetId',\n",
      "       'awaySOG', 'homeSOG', 'secondaryReason', 'typeCode', 'descKey',\n",
      "       'duration', 'committedByPlayerId', 'drawnByPlayerId', 'scoringPlayerId',\n",
      "       'scoringPlayerTotal', 'assist1PlayerId', 'assist1PlayerTotal',\n",
      "       'awayScore', 'homeScore', 'discreteClip', 'assist2PlayerId',\n",
      "       'assist2PlayerTotal', 'servedByPlayerId', 'eventOwnerTeam'],\n",
      "      dtype='object')\n"
     ]
    }
   ],
   "source": [
    "print(f\"List of columns: {df_combined.columns}\")"
   ]
  },
  {
   "cell_type": "markdown",
   "metadata": {},
   "source": [
    "**Selected Key Columns**\n",
    "Since the dataset has 39 columns, I reduced it to only the necessary ones for our RL model:\n",
    "\n",
    "- Game Context: eventId, period, time, away_team, home_team, home_team_side\n",
    "- Event Type: eventType, eventOwnerTeamId\n",
    "- Location Data: xCoord, yCoord (where the event happened)\n",
    "- Shot Details (if applicable): shotType, goalieInNetId\n",
    "- Game Score: awayScore, homeScore"
   ]
  },
  {
   "cell_type": "code",
   "execution_count": 12,
   "metadata": {},
   "outputs": [
    {
     "name": "stdout",
     "output_type": "stream",
     "text": [
      "Column statistics (Null Count and Unique Count):\n",
      "+----------------+------------------------------------------+\n",
      "| Column         | Statistics                               |\n",
      "+================+==========================================+\n",
      "| eventId        | {'Null Count': 124, 'Unique Count': 215} |\n",
      "+----------------+------------------------------------------+\n",
      "| period         | {'Null Count': 0, 'Unique Count': 3}     |\n",
      "+----------------+------------------------------------------+\n",
      "| time           | {'Null Count': 0, 'Unique Count': 293}   |\n",
      "+----------------+------------------------------------------+\n",
      "| away_team      | {'Null Count': 0, 'Unique Count': 1}     |\n",
      "+----------------+------------------------------------------+\n",
      "| home_team      | {'Null Count': 0, 'Unique Count': 1}     |\n",
      "+----------------+------------------------------------------+\n",
      "| home_team_side | {'Null Count': 0, 'Unique Count': 2}     |\n",
      "+----------------+------------------------------------------+\n",
      "| eventType      | {'Null Count': 0, 'Unique Count': 7}     |\n",
      "+----------------+------------------------------------------+\n",
      "| eventOwnerTeam | {'Null Count': 0, 'Unique Count': 2}     |\n",
      "+----------------+------------------------------------------+\n",
      "| xCoord         | {'Null Count': 0, 'Unique Count': 156}   |\n",
      "+----------------+------------------------------------------+\n",
      "| yCoord         | {'Null Count': 0, 'Unique Count': 79}    |\n",
      "+----------------+------------------------------------------+\n",
      "| zoneCode       | {'Null Count': 0, 'Unique Count': 3}     |\n",
      "+----------------+------------------------------------------+\n",
      "| shotType       | {'Null Count': 237, 'Unique Count': 8}   |\n",
      "+----------------+------------------------------------------+\n",
      "| goalieInNetId  | {'Null Count': 238, 'Unique Count': 2}   |\n",
      "+----------------+------------------------------------------+\n",
      "| awayScore      | {'Null Count': 332, 'Unique Count': 2}   |\n",
      "+----------------+------------------------------------------+\n",
      "| homeScore      | {'Null Count': 332, 'Unique Count': 6}   |\n",
      "+----------------+------------------------------------------+\n"
     ]
    }
   ],
   "source": [
    "from tabulate import tabulate\n",
    "\n",
    "# Select only relevant columns\n",
    "df_combined = df_combined[[\n",
    "    \"eventId\", \"period\", \"time\", \"away_team\", \"home_team\", \"home_team_side\",\n",
    "    \"eventType\", \"eventOwnerTeam\", \"xCoord\", \"yCoord\", \"zoneCode\",\n",
    "    \"shotType\", \"goalieInNetId\", \"awayScore\", \"homeScore\"\n",
    "]]\n",
    "\n",
    "# Count of null values and unique values in each column\n",
    "column_stats = {\n",
    "    col: {\"Null Count\": int(df_combined[col].isnull().sum()), \"Unique Count\": df_combined[col].nunique()}\n",
    "    for col in df_combined.columns\n",
    "}\n",
    "\n",
    "# Print the combined table\n",
    "print(\"Column statistics (Null Count and Unique Count):\")\n",
    "print(tabulate(column_stats.items(), headers=[\"Column\", \"Statistics\"], tablefmt=\"grid\"))"
   ]
  },
  {
   "cell_type": "code",
   "execution_count": 13,
   "metadata": {},
   "outputs": [
    {
     "data": {
      "text/plain": [
       "'\" DEAD CODE - No longer filtering out the other team\\'s events so we can use the data as context for reward calculations.  \\nWe will skip them in the step function - we only choose actions for our team\\nWe will need to define team_to_train when setting up the HockeyPlayRL environment\\n\\n# Set team to train on, and filter it in the data set\\nteam_to_train = \"home\"  # or \"away\"\\nteam_to_train_name = home_Team[\"abbrev\"] if team_to_train == \"home\" else away_Team[\"abbrev\"]\\n\\ndf_combined = df_combined[df_combined[\"eventOwnerTeam\"] == team_to_train_name]  # Only include actions for selected team\\n\\nprint(f\"Number of rows after filtering for {team_to_train} team: {df_combined.shape[0]}\")\"\\n'"
      ]
     },
     "execution_count": 13,
     "metadata": {},
     "output_type": "execute_result"
    }
   ],
   "source": [
    "\"\"\"\" DEAD CODE - No longer filtering out the other team's events so we can use the data as context for reward calculations.  \n",
    "We will skip them in the step function - we only choose actions for our team\n",
    "We will need to define team_to_train when setting up the HockeyPlayRL environment\n",
    "\n",
    "# Set team to train on, and filter it in the data set\n",
    "team_to_train = \"home\"  # or \"away\"\n",
    "team_to_train_name = home_Team[\"abbrev\"] if team_to_train == \"home\" else away_Team[\"abbrev\"]\n",
    "\n",
    "df_combined = df_combined[df_combined[\"eventOwnerTeam\"] == team_to_train_name]  # Only include actions for selected team\n",
    "\n",
    "print(f\"Number of rows after filtering for {team_to_train} team: {df_combined.shape[0]}\")\"\n",
    "\"\"\""
   ]
  },
  {
   "cell_type": "code",
   "execution_count": 14,
   "metadata": {},
   "outputs": [
    {
     "name": "stdout",
     "output_type": "stream",
     "text": [
      "Sample of saved data:\n",
      "   eventId  period   time away_team home_team home_team_side eventType  \\\n",
      "0      8.0       1  00:23       FLA       VGK          right       hit   \n",
      "1      NaN       1  00:25       FLA       VGK          right  carry-in   \n",
      "2      9.0       1  00:27       FLA       VGK          right       hit   \n",
      "3     10.0       1  00:32       FLA       VGK          right       hit   \n",
      "4      NaN       1  00:41       FLA       VGK          right      pass   \n",
      "\n",
      "  eventOwnerTeam  xCoord  yCoord zoneCode shotType  goalieInNetId  awayScore  \\\n",
      "0            FLA    89.0    31.0        O      NaN            NaN        NaN   \n",
      "1            FLA    99.0    33.0        O      NaN            NaN        NaN   \n",
      "2            FLA   -14.0    40.0        N      NaN            NaN        NaN   \n",
      "3            VGK   -86.0    36.0        O      NaN            NaN        NaN   \n",
      "4            VGK   -84.0    38.0        O      NaN            NaN        NaN   \n",
      "\n",
      "   homeScore  \n",
      "0        NaN  \n",
      "1        NaN  \n",
      "2        NaN  \n",
      "3        NaN  \n",
      "4        NaN  \n",
      "Filtered data saved as nhl_filtered_play_by_play.csv\n"
     ]
    }
   ],
   "source": [
    "# Save cleaned data\n",
    "df_combined.to_csv(\"../data/csv/nhl_filtered_play_by_play.csv\", index=False)\n",
    "\n",
    "saved_data = pd.read_csv(\"../data/csv/nhl_filtered_play_by_play.csv\")\n",
    "print(f\"Sample of saved data:\\n{saved_data.head()}\")\n",
    "print(\"Filtered data saved as nhl_filtered_play_by_play.csv\")"
   ]
  },
  {
   "cell_type": "code",
   "execution_count": 15,
   "metadata": {},
   "outputs": [],
   "source": [
    "# Define Deep Q-Network (DQN) model for RL of Hockey Play-by-Play\n",
    "# Why? → This neural network predicts Q-values for all actions based on the current hockey play.\n",
    "class DQN(nn.Module):\n",
    "    def __init__(self, input_dim, output_dim):\n",
    "        super(DQN, self).__init__()\n",
    "        self.fc = nn.Sequential(\n",
    "            nn.Linear(input_dim, 64),\n",
    "            nn.ReLU(),\n",
    "            nn.Linear(64, 64),\n",
    "            nn.ReLU(),\n",
    "            nn.Linear(64, output_dim)\n",
    "        )\n",
    "\n",
    "    def forward(self, x):\n",
    "        return self.fc(x)\n"
   ]
  },
  {
   "cell_type": "code",
   "execution_count": 16,
   "metadata": {},
   "outputs": [
    {
     "data": {
      "text/plain": [
       "DQN(\n",
       "  (fc): Sequential(\n",
       "    (0): Linear(in_features=5, out_features=64, bias=True)\n",
       "    (1): ReLU()\n",
       "    (2): Linear(in_features=64, out_features=64, bias=True)\n",
       "    (3): ReLU()\n",
       "    (4): Linear(in_features=64, out_features=6, bias=True)\n",
       "  )\n",
       ")"
      ]
     },
     "execution_count": 16,
     "metadata": {},
     "output_type": "execute_result"
    }
   ],
   "source": [
    "# Initialize networks\n",
    "# Why? → We use two networks:\n",
    "# Online Network (learning agent)\n",
    "# Target Network (stable reference)\n",
    "# input_dim = 5 (period, time, xCoord, yCoord, scoreDiff)\n",
    "# output_dim = 6 (number of actions - hit, blocked_shot, takeaway, giveaway, shot_on_goal, missed_shot, goal)\n",
    "# Set device (GPU if available)\n",
    "device = torch.device(\"mps\" if torch.backends.mps.is_available() else \"cpu\")\n",
    "online_network = DQN(input_dim=5, output_dim=6).to(device)\n",
    "target_network = DQN(input_dim=5, output_dim=6).to(device)\n",
    "target_network.load_state_dict(online_network.state_dict())  # Copy weights\n",
    "target_network.eval()  # Target network is frozen\n"
   ]
  },
  {
   "cell_type": "code",
   "execution_count": 17,
   "metadata": {},
   "outputs": [],
   "source": [
    "# Define Experience Replay Memory\n",
    "# Why? → Stores past experiences so the AI can learn from past plays instead of just the most recent ones.\n",
    "# Will be used to train the model - stores Q-values and rewards for each action taken.\n",
    "# Experience = (state, action, reward, next_state, done)\n",
    "# Memory = list of experiences\n",
    "memory = []\n",
    "max_memory_size = 10000  # Store last 10,000 experiences\n",
    "\n",
    "def store_experience(state, action, reward, next_state, done):\n",
    "    memory.append((state, action, reward, next_state, done))\n",
    "    if len(memory) > max_memory_size:\n",
    "        memory.pop(0)\n"
   ]
  },
  {
   "cell_type": "code",
   "execution_count": 18,
   "metadata": {},
   "outputs": [],
   "source": [
    "# Define Epsilon-Greedy Strategy\n",
    "# Why? → Starts with exploration (ε = 1.0 random actions) and gradually learns to exploit the best moves.\n",
    "epsilon = 1.0  # Start fully random\n",
    "epsilon_min = 0.1\n",
    "epsilon_decay = 0.995  # Reduce randomness over time\n",
    "\n",
    "def select_action(state):\n",
    "    if np.random.rand() < epsilon:  # Explore (random action)\n",
    "        return np.random.randint(0, 6)  # Updated to match output_dim (6 actions)\n",
    "    else:  # Exploit (use learned Q-values)\n",
    "        state_tensor = torch.tensor(state, dtype=torch.float32).to(device)\n",
    "        with torch.no_grad():\n",
    "            action_taken = torch.argmax(online_network(state_tensor)).item()\n",
    "            return action_taken\n"
   ]
  },
  {
   "cell_type": "code",
   "execution_count": 19,
   "metadata": {},
   "outputs": [],
   "source": [
    "# Define Loss Function & Optimizer\n",
    "# Why? → We use Mean Squared Error Loss and Adam Optimizer to train the model.\n",
    "# Why? → This updates the online network so it learns which hockey plays lead to the best outcomes.\n",
    "loss_fn = nn.MSELoss()  # Mean Squared Error Loss\n",
    "optimizer = optim.Adam(online_network.parameters(), lr=0.005)  # Adam Optimizer\n",
    "batch_size = 16  # Number of experiences to sample for training\n",
    "gamma = 0.99  # Discount factor for future rewards\n",
    "\n",
    "def train_network():\n",
    "    if len(memory) < batch_size:\n",
    "        return  # Don't train until enough experiences are collected\n",
    "\n",
    "    batch = random.sample(memory, batch_size)  # Sample batch from memory\n",
    "\n",
    "    for state, action, reward, next_state, done in batch:\n",
    "        state = torch.tensor(state, dtype=torch.float32).to(device)\n",
    "        next_state = torch.tensor(next_state, dtype=torch.float32).to(device)\n",
    "        action = torch.tensor(action).to(device)\n",
    "        reward = torch.tensor(reward, dtype=torch.float32).to(device)\n",
    "\n",
    "        # Compute Q-value for current state-action pair\n",
    "        q_values = online_network(state)\n",
    "        q_value = q_values[action]  # Predicted: Q-value for selected action in current model (i.e. output of online network with current weights)\n",
    "\n",
    "        # Compute target Q-value\n",
    "        with torch.no_grad():\n",
    "            next_q_values = target_network(next_state)\n",
    "            target_q_value = reward + (gamma * torch.max(next_q_values)) * (1 - done) # Target: reward + discounted max Q-value for next state (i.e. output of target network with frozen weights) -- the immediate rewards (calculated in Hockey RL env) + discounted future rewards using stable target network\n",
    "\n",
    "        # Compute loss & update weights\n",
    "        loss = loss_fn(q_value, target_q_value)  # minize the difference between predicted and target Q-values\n",
    "        optimizer.zero_grad()\n",
    "        loss.backward()  # Backpropagation\n",
    "        optimizer.step() # Update weights to minimize loss (i.e. improve Q-value predictions to be closer to Q-value for that state-action pair)\n"
   ]
  },
  {
   "cell_type": "code",
   "execution_count": 20,
   "metadata": {},
   "outputs": [
    {
     "name": "stdout",
     "output_type": "stream",
     "text": [
      "Count of values by eventType...\n",
      "eventType\n",
      "shot            95\n",
      "carry-in        70\n",
      "hit             65\n",
      "pass            54\n",
      "blocked-shot    27\n",
      "takeaway        21\n",
      "goal             7\n",
      "Name: count, dtype: int64\n"
     ]
    }
   ],
   "source": [
    "print(f\"Count of values by eventType...\\n{df_combined['eventType'].value_counts()}\")\n"
   ]
  },
  {
   "cell_type": "code",
   "execution_count": 21,
   "metadata": {},
   "outputs": [],
   "source": [
    "# Updated Hockey Play-by-Play RL Environment with Training Logic\n",
    "# Why? → This version includes training logic to update the online network based on past experiences.\n",
    "# Calculates reward based on actual event in dataset and chosen action by the agent. How? → Assigns rewards based on event type.\n",
    "class HockeyPlayRL(gym.Env):\n",
    "    def __init__(self, df, team_to_train_name, model=None):\n",
    "        super(HockeyPlayRL, self).__init__()\n",
    "        self.df = df.reset_index(drop=True)\n",
    "        self.action_space = spaces.Discrete(7)  # 7 actions now\n",
    "        self.observation_space = spaces.Box(\n",
    "            low=np.array([1, 0, -100, -50, -10]),\n",
    "            high=np.array([3, 1200, 100, 50, 10]),\n",
    "            dtype=np.float32\n",
    "        )\n",
    "        self.current_step = 0\n",
    "        self.team = team_to_train_name\n",
    "        self.model = model\n",
    "\n",
    "    def reset(self):\n",
    "        \"\"\"Reset the environment.\"\"\"\n",
    "        self.current_step = 0\n",
    "        return self._next_observation()\n",
    "\n",
    "    def _next_observation(self):\n",
    "        \"\"\"Get current game state as RL observation, adjusting for team perspective.\"\"\"\n",
    "        row = self.df.iloc[self.current_step]\n",
    "        period = row[\"period\"]\n",
    "        time = int(row[\"time\"].split(\":\")[0]) * 60 + int(row[\"time\"].split(\":\")[1])\n",
    "        # Adjust X-coordinates if in even-numbered periods (switch sides)\n",
    "        x_coord = row[\"xCoord\"] if not np.isnan(row[\"xCoord\"]) else 0\n",
    "        if period % 2 == 0:  # Flip X for even periods\n",
    "            x_coord = -x_coord\n",
    "        y_coord = row[\"yCoord\"] if not np.isnan(row[\"yCoord\"]) else 0\n",
    "        score_diff = (row[\"awayScore\"] - row[\"homeScore\"]) if not np.isnan(row[\"awayScore\"]) else 0\n",
    "        return np.array([period, time, x_coord, y_coord, score_diff], dtype=np.float32)\n",
    "\n",
    "    # Action-to-reward mapping\n",
    "    # Assign rewards based on chosen action and actual event in dataset\n",
    "    # If chosen action matches actual event, assign reward based on event type\n",
    "    # If not, reward is 0\n",
    "    # I.e. if the agent chooses what actually happened, it gets rewarded based on the event type\n",
    "    # This rewards the agent for making the right decisions \n",
    "    # and helps it learn which plays are most effective in different situations\n",
    "    # If it predicts right, it means the weights are updated correctly\n",
    "    def step(self, action):\n",
    "        \"\"\"Apply an action and transition to the next state, ensuring AI only makes decisions on its team's actions.\"\"\"\n",
    "        \n",
    "        # Look up action name by calling action_name function\n",
    "        action_name = self.action_name(action)  # Convert index to action string\n",
    "\n",
    "        reward = 0 # Initialize reward\n",
    "\n",
    "        # Assign base rewards for actions\n",
    "        if action_name == \"shot\":\n",
    "            reward = 3  # Base reward for taking a shot\n",
    "\n",
    "            # Check if the next event is a goal for our team - increase the reward (benefit)\n",
    "            if self.current_step < len(self.df) - 1:\n",
    "                next_event = self.df.iloc[self.current_step + 1]\n",
    "                if next_event[\"eventType\"] == \"Goal\" and next_event[\"eventOwnerTeam\"] == self.team:\n",
    "                    reward += 7  # Extra reward for a goal\n",
    "\n",
    "        elif action_name == \"takeaway\":\n",
    "            reward = 2  # Reward for stealing the puck\n",
    "\n",
    "        elif action_name == \"hit\":\n",
    "            reward = 1  # Reward for delivering a hit\n",
    "\n",
    "        elif action_name == \"blocked-shot\":\n",
    "            reward = 2  # Reward for blocking a shot\n",
    "\n",
    "        elif action_name == \"pass\":\n",
    "            reward = 2  # Encouraging team play\n",
    "\n",
    "        elif action_name == \"carry-in\":\n",
    "            reward = 3  # Encouraging zone entry\n",
    "\n",
    "        # Check if possession is lost after non-shot actions - reduce the reward (penalty)\n",
    "        if action_name in [\"takeaway\", \"pass\", \"carry-in\"]:\n",
    "            if self.current_step < len(self.df) - 1:\n",
    "                next_event = self.df.iloc[self.current_step + 1]\n",
    "                if next_event[\"eventOwnerTeam\"] != self.team:  # Lost possession\n",
    "                    reward -= 2  \n",
    "\n",
    "        # Move to the next decision-making event (skip opponent events)\n",
    "        while self.current_step < len(self.df) - 1:\n",
    "            self.current_step += 1\n",
    "            if self.df.iloc[self.current_step][\"eventOwnerTeam\"] == self.team:\n",
    "                break  # Stop when we reach our team's next action\n",
    "\n",
    "        done = self.current_step >= len(self.df) - 1\n",
    "        return self._next_observation(), reward, done, {}\n",
    "    \n",
    "    def predict_best_action(self, state):\n",
    "        \"\"\"Predict the best action using the trained model.\"\"\"\n",
    "        with torch.no_grad():\n",
    "            state_tensor = torch.tensor(state, dtype=torch.float32).unsqueeze(0)\n",
    "            q_values = self.model(state_tensor)\n",
    "            action = torch.argmax(q_values).item()\n",
    "        return action\n",
    "\n",
    "    # Function to look up action name from index\n",
    "    def action_name(self, action):\n",
    "        action_mapping = {\n",
    "            0: \"hit\",\n",
    "            1: \"blocked-shot\",\n",
    "            2: \"takeaway\",\n",
    "            3: \"pass\",\n",
    "            4: \"carry-in\",\n",
    "            5: \"shot\"\n",
    "        }\n",
    "        return action_mapping[action]"
   ]
  },
  {
   "cell_type": "code",
   "execution_count": 22,
   "metadata": {},
   "outputs": [
    {
     "name": "stderr",
     "output_type": "stream",
     "text": [
      "/Users/liammckendry/hockey_ai/lib/python3.13/site-packages/gym/spaces/box.py:127: UserWarning: \u001b[33mWARN: Box bound precision lowered by casting to float32\u001b[0m\n",
      "  logger.warn(f\"Box bound precision lowered by casting to {self.dtype}\")\n"
     ]
    }
   ],
   "source": [
    "# Re-initialize Hockey RL Environment with Training Logic\n",
    "team_to_train = \"home\"\n",
    "team_to_train_name = home_Team[\"abbrev\"] if team_to_train == \"home\" else away_Team[\"abbrev\"]\n",
    "hockey_env_rl = HockeyPlayRL(df_combined, team_to_train_name)\n",
    "\n",
    "# Set device (GPU if available)\n",
    "device = torch.device(\"mps\" if torch.backends.mps.is_available() else \"cpu\")"
   ]
  },
  {
   "cell_type": "code",
   "execution_count": 23,
   "metadata": {},
   "outputs": [],
   "source": [
    "# Define Target Network Update\n",
    "# Why? → The target network is updated every few episodes to keep learning stable.\n",
    "def update_target_network():\n",
    "    target_network.load_state_dict(online_network.state_dict())  # Copy weights"
   ]
  },
  {
   "cell_type": "code",
   "execution_count": 24,
   "metadata": {},
   "outputs": [],
   "source": [
    "# Define epsilon_decay\n",
    "# Why? → Reduces randomness over time as the AI learns to exploit the best moves.\n",
    "def update_epsilon():\n",
    "    global epsilon\n",
    "    epsilon = max(epsilon_min, epsilon * epsilon_decay)  # Reduce randomness over time\n"
   ]
  },
  {
   "cell_type": "code",
   "execution_count": 26,
   "metadata": {},
   "outputs": [
    {
     "name": "stdout",
     "output_type": "stream",
     "text": [
      "Training skipped. Loading pre-trained model...\n"
     ]
    },
    {
     "ename": "FileNotFoundError",
     "evalue": "[Errno 2] No such file or directory: '../models/hockey_play_rl_online.pth'",
     "output_type": "error",
     "traceback": [
      "\u001b[0;31m---------------------------------------------------------------------------\u001b[0m",
      "\u001b[0;31mFileNotFoundError\u001b[0m                         Traceback (most recent call last)",
      "Cell \u001b[0;32mIn[26], line 9\u001b[0m\n\u001b[1;32m      7\u001b[0m \u001b[38;5;28;01mif\u001b[39;00m skip_training:\n\u001b[1;32m      8\u001b[0m     \u001b[38;5;28mprint\u001b[39m(\u001b[38;5;124m\"\u001b[39m\u001b[38;5;124mTraining skipped. Loading pre-trained model...\u001b[39m\u001b[38;5;124m\"\u001b[39m)\n\u001b[0;32m----> 9\u001b[0m     online_network \u001b[38;5;241m=\u001b[39m \u001b[43mtorch\u001b[49m\u001b[38;5;241;43m.\u001b[39;49m\u001b[43mload\u001b[49m\u001b[43m(\u001b[49m\u001b[38;5;124;43m\"\u001b[39;49m\u001b[38;5;124;43m../models/hockey_play_rl_online.pth\u001b[39;49m\u001b[38;5;124;43m\"\u001b[39;49m\u001b[43m)\u001b[49m\n\u001b[1;32m     10\u001b[0m     target_network \u001b[38;5;241m=\u001b[39m torch\u001b[38;5;241m.\u001b[39mload(\u001b[38;5;124m\"\u001b[39m\u001b[38;5;124m../models/hockey_play_rl_target.pth\u001b[39m\u001b[38;5;124m\"\u001b[39m)\n\u001b[1;32m     11\u001b[0m     \u001b[38;5;28mprint\u001b[39m(\u001b[38;5;124m\"\u001b[39m\u001b[38;5;124mModel loaded.\u001b[39m\u001b[38;5;124m\"\u001b[39m)\n",
      "File \u001b[0;32m~/hockey_ai/lib/python3.13/site-packages/torch/serialization.py:1425\u001b[0m, in \u001b[0;36mload\u001b[0;34m(f, map_location, pickle_module, weights_only, mmap, **pickle_load_args)\u001b[0m\n\u001b[1;32m   1422\u001b[0m \u001b[38;5;28;01mif\u001b[39;00m \u001b[38;5;124m\"\u001b[39m\u001b[38;5;124mencoding\u001b[39m\u001b[38;5;124m\"\u001b[39m \u001b[38;5;129;01mnot\u001b[39;00m \u001b[38;5;129;01min\u001b[39;00m pickle_load_args\u001b[38;5;241m.\u001b[39mkeys():\n\u001b[1;32m   1423\u001b[0m     pickle_load_args[\u001b[38;5;124m\"\u001b[39m\u001b[38;5;124mencoding\u001b[39m\u001b[38;5;124m\"\u001b[39m] \u001b[38;5;241m=\u001b[39m \u001b[38;5;124m\"\u001b[39m\u001b[38;5;124mutf-8\u001b[39m\u001b[38;5;124m\"\u001b[39m\n\u001b[0;32m-> 1425\u001b[0m \u001b[38;5;28;01mwith\u001b[39;00m \u001b[43m_open_file_like\u001b[49m\u001b[43m(\u001b[49m\u001b[43mf\u001b[49m\u001b[43m,\u001b[49m\u001b[43m \u001b[49m\u001b[38;5;124;43m\"\u001b[39;49m\u001b[38;5;124;43mrb\u001b[39;49m\u001b[38;5;124;43m\"\u001b[39;49m\u001b[43m)\u001b[49m \u001b[38;5;28;01mas\u001b[39;00m opened_file:\n\u001b[1;32m   1426\u001b[0m     \u001b[38;5;28;01mif\u001b[39;00m _is_zipfile(opened_file):\n\u001b[1;32m   1427\u001b[0m         \u001b[38;5;66;03m# The zipfile reader is going to advance the current file position.\u001b[39;00m\n\u001b[1;32m   1428\u001b[0m         \u001b[38;5;66;03m# If we want to actually tail call to torch.jit.load, we need to\u001b[39;00m\n\u001b[1;32m   1429\u001b[0m         \u001b[38;5;66;03m# reset back to the original position.\u001b[39;00m\n\u001b[1;32m   1430\u001b[0m         orig_position \u001b[38;5;241m=\u001b[39m opened_file\u001b[38;5;241m.\u001b[39mtell()\n",
      "File \u001b[0;32m~/hockey_ai/lib/python3.13/site-packages/torch/serialization.py:751\u001b[0m, in \u001b[0;36m_open_file_like\u001b[0;34m(name_or_buffer, mode)\u001b[0m\n\u001b[1;32m    749\u001b[0m \u001b[38;5;28;01mdef\u001b[39;00m\u001b[38;5;250m \u001b[39m\u001b[38;5;21m_open_file_like\u001b[39m(name_or_buffer, mode):\n\u001b[1;32m    750\u001b[0m     \u001b[38;5;28;01mif\u001b[39;00m _is_path(name_or_buffer):\n\u001b[0;32m--> 751\u001b[0m         \u001b[38;5;28;01mreturn\u001b[39;00m \u001b[43m_open_file\u001b[49m\u001b[43m(\u001b[49m\u001b[43mname_or_buffer\u001b[49m\u001b[43m,\u001b[49m\u001b[43m \u001b[49m\u001b[43mmode\u001b[49m\u001b[43m)\u001b[49m\n\u001b[1;32m    752\u001b[0m     \u001b[38;5;28;01melse\u001b[39;00m:\n\u001b[1;32m    753\u001b[0m         \u001b[38;5;28;01mif\u001b[39;00m \u001b[38;5;124m\"\u001b[39m\u001b[38;5;124mw\u001b[39m\u001b[38;5;124m\"\u001b[39m \u001b[38;5;129;01min\u001b[39;00m mode:\n",
      "File \u001b[0;32m~/hockey_ai/lib/python3.13/site-packages/torch/serialization.py:732\u001b[0m, in \u001b[0;36m_open_file.__init__\u001b[0;34m(self, name, mode)\u001b[0m\n\u001b[1;32m    731\u001b[0m \u001b[38;5;28;01mdef\u001b[39;00m\u001b[38;5;250m \u001b[39m\u001b[38;5;21m__init__\u001b[39m(\u001b[38;5;28mself\u001b[39m, name, mode):\n\u001b[0;32m--> 732\u001b[0m     \u001b[38;5;28msuper\u001b[39m()\u001b[38;5;241m.\u001b[39m\u001b[38;5;21m__init__\u001b[39m(\u001b[38;5;28;43mopen\u001b[39;49m\u001b[43m(\u001b[49m\u001b[43mname\u001b[49m\u001b[43m,\u001b[49m\u001b[43m \u001b[49m\u001b[43mmode\u001b[49m\u001b[43m)\u001b[49m)\n",
      "\u001b[0;31mFileNotFoundError\u001b[0m: [Errno 2] No such file or directory: '../models/hockey_play_rl_online.pth'"
     ]
    }
   ],
   "source": [
    "# Train the Deep Q-Network (DQN) for Hockey Play-by-Play\n",
    "# This runs thousands of simulated hockey games until the AI masters play selection. 🏆\n",
    "\n",
    "num_episodes = 100  # Number of episodes (games) to play\n",
    "skip_training = True  # Skip training if already trained\n",
    "\n",
    "if skip_training:\n",
    "    print(\"Training skipped. Loading pre-trained model...\")\n",
    "    online_network = torch.load(\"../models/hockey_play_rl_online.pth\")\n",
    "    target_network = torch.load(\"../models/hockey_play_rl_target.pth\")\n",
    "    print(\"Model loaded.\")\n",
    "    sys.exit()\n",
    "    \n",
    "for episode in range(num_episodes):\n",
    "    state = hockey_env_rl.reset()  # Reset game (start new episode with Hockey RL Environment)\n",
    "    done = False\n",
    "\n",
    "    while not done:  # Goes through each row in the dataset (definition of done)\n",
    "        action = select_action(state)  # Step 3: Choose action (start with random actions, then exploit learned Q-values - i.e. choose best action)\n",
    "        next_state, reward, done, _ = hockey_env_rl.step(action)  # Step 4: For the chosen action, get the next state (i.e. observations/features), reward of chosen action (either hard-coded rewards if choose same as eventType in dataset or 0 if not), and if the game is done\n",
    "        store_experience(state, action, reward, next_state, done)  # Step 5: Store experience (state/observations, chosen action, reward, next state/observation, if done)\n",
    "        train_network()  # Step 6: Train neural network -- update weights to minimize loss between predicted q-value (current model output for chosen action) and target q-value (immediate reward of chosen action if the same as dataset + future reward of next state/sitauation in dataset) (i.e. improve Q-value predictions to be closer to Q-value for that state-action pair)\n",
    "        state = next_state  # Move to next state (situational observations in dataset); continue until done all rows in dataset\n",
    "\n",
    "    update_target_network()  # Step 6: Update target network every episode (going through all rows in dataset)\n",
    "    update_epsilon()  # Step 7: Reduce exploration (ε) over time to go from random actions to exploiting learned Q-values\n",
    "\n",
    "    # Print progress every 100 episodes\n",
    "    if episode % 10 == 0:\n",
    "        print(f\"Episode {episode} completed. Epsilon: {epsilon:.2f}\")\n",
    "\n",
    "print(\"Training complete!\")\n"
   ]
  },
  {
   "cell_type": "code",
   "execution_count": 27,
   "metadata": {},
   "outputs": [
    {
     "name": "stdout",
     "output_type": "stream",
     "text": [
      "Loaded existing models.\n"
     ]
    }
   ],
   "source": [
    "import os\n",
    "\n",
    "# Define file paths\n",
    "online_network_path = \"../src/models/dqn_model-online_network.pkl\"\n",
    "target_network_path = \"../src/models/dqn_model-target_network.pkl\"\n",
    "\n",
    "# Check if the model files already exist\n",
    "if os.path.exists(online_network_path) and os.path.exists(target_network_path):\n",
    "    # Load existing models\n",
    "    with open(online_network_path, \"rb\") as model_file:\n",
    "        online_network = pickle.load(model_file)\n",
    "    with open(target_network_path, \"rb\") as model_file:\n",
    "        target_network = pickle.load(model_file)\n",
    "    print(\"Loaded existing models.\")\n",
    "else:\n",
    "    # Save the trained models\n",
    "    with open(online_network_path, \"wb\") as model_file:\n",
    "        pickle.dump(online_network, model_file)\n",
    "    with open(target_network_path, \"wb\") as model_file:\n",
    "        pickle.dump(target_network, model_file)\n",
    "    print(\"Saved new models.\")"
   ]
  },
  {
   "cell_type": "code",
   "execution_count": 28,
   "metadata": {},
   "outputs": [
    {
     "name": "stderr",
     "output_type": "stream",
     "text": [
      "/var/folders/mj/ndpf249j5rn7jzxyb81srz4w0000gn/T/ipykernel_13333/2632909045.py:96: UserWarning: To copy construct from a tensor, it is recommended to use sourceTensor.clone().detach() or sourceTensor.clone().detach().requires_grad_(True), rather than torch.tensor(sourceTensor).\n",
      "  state_tensor = torch.tensor(state, dtype=torch.float32).unsqueeze(0)\n"
     ]
    },
    {
     "name": "stdout",
     "output_type": "stream",
     "text": [
      "Simulation complete! Logged simulated states to hockey_action_log.csv\n"
     ]
    }
   ],
   "source": [
    "# Simulate a variety of hockey game states, call predict_best_action(state), and log the AI’s decisions to your hockey_action_log.csv file.\n",
    "\n",
    "# Log file path\n",
    "log_file = \"../outputs/hockey_action_log.csv\"\n",
    "reward_log = []  # Store total reward per episode\n",
    "\n",
    "# Number of simulated entries\n",
    "num_simulated_states = 1000  # Adjust as needed\n",
    "\n",
    "# Open log file in append mode\n",
    "with open(log_file, \"a\", newline=\"\") as file:\n",
    "    writer = csv.writer(file)\n",
    "\n",
    "    # Write header if file is empty\n",
    "    if file.tell() == 0:\n",
    "        writer.writerow([\"Period\", \"Time\", \"X Coord\", \"Y Coord\", \"Score Diff\", \"Action\", \"Action Name\"])\n",
    "\n",
    "    # Set online network for prediction\n",
    "    hockey_env_rl.model = online_network\n",
    "\n",
    "    # Generate random hockey states and predict actions\n",
    "    for _ in range(num_simulated_states):\n",
    "        period = np.random.randint(1, 4)  # Period 1-3\n",
    "        time = np.random.randint(0, 1200)  # Time in seconds (up to 20 min)\n",
    "        x_coord = np.random.randint(-100, 100)  # Rink width range\n",
    "        y_coord = np.random.randint(-50, 50)  # Rink height range\n",
    "        score_diff = np.random.randint(-5, 5)  # Score difference range (-5 to +5)\n",
    "\n",
    "        # Create state array\n",
    "        state = [period, time, x_coord, y_coord, score_diff]\n",
    "\n",
    "        # Move state to the same device as the model\n",
    "        state_tensor = torch.tensor(state, dtype=torch.float32).to(device)\n",
    "\n",
    "        # Predict AI's best action\n",
    "        action = hockey_env_rl.predict_best_action(state_tensor)\n",
    "        action_name = hockey_env_rl.action_name(action)\n",
    "\n",
    "        # Log result\n",
    "        writer.writerow(state + [action, action_name])\n",
    "\n",
    "print(\"Simulation complete! Logged simulated states to hockey_action_log.csv\")\n"
   ]
  },
  {
   "cell_type": "code",
   "execution_count": 29,
   "metadata": {},
   "outputs": [],
   "source": [
    "import matplotlib.pyplot as plt\n",
    "import seaborn as sns\n",
    "\n",
    "def plot_action_heatmaps(log_df):\n",
    "    \"\"\"\n",
    "    Generate KDE (density) heatmaps for AI decision-making locations.\n",
    "\n",
    "    Parameters:\n",
    "        log_df (pd.DataFrame): DataFrame with columns [\"X Coord\", \"Y Coord\", \"Action Name\"]\n",
    "    \"\"\"\n",
    "    unique_actions = log_df[\"Action Name\"].unique()\n",
    "    \n",
    "    plt.figure(figsize=(15, 10))\n",
    "    \n",
    "    for i, action in enumerate(unique_actions, 1):\n",
    "        plt.subplot(2, 3, i)\n",
    "        subset = log_df[log_df[\"Action Name\"] == action]\n",
    "        \n",
    "        sns.kdeplot(x=subset[\"X Coord\"], y=subset[\"Y Coord\"], cmap=\"coolwarm\", fill=True, levels=100)\n",
    "        plt.title(f\"Heatmap of {action}\")\n",
    "        plt.xlabel(\"X Coord\")\n",
    "        plt.ylabel(\"Y Coord\")\n",
    "\n",
    "        # Add offensive/neutral/defensive zone lines\n",
    "        min_x, max_x = log_df[\"X Coord\"].min(), log_df[\"X Coord\"].max()\n",
    "        range_x = max_x - min_x\n",
    "        plt.axvline(x=min_x + range_x * 0.33, color=\"blue\", linestyle=\"--\")\n",
    "        plt.axvline(x=min_x + range_x * 0.66, color=\"blue\", linestyle=\"--\")\n",
    "        plt.axvline(x=min_x + range_x * 0.5, color=\"red\", linestyle=\"-\")\n",
    "\n",
    "    plt.tight_layout()\n",
    "    \n",
    "    # Save plot as image\n",
    "    datetime = pd.Timestamp.now().strftime(\"%Y%m%d_%H%M%S\")\n",
    "    plt.savefig(f\"../outputs/heatmap_actions_zones_{datetime}.png\", bbox_inches='tight')\n",
    "    \n",
    "    plt.show()\n",
    "\n",
    "    "
   ]
  },
  {
   "cell_type": "code",
   "execution_count": 31,
   "metadata": {},
   "outputs": [
    {
     "name": "stdout",
     "output_type": "stream",
     "text": [
      "Count of actions in df_log:\n",
      "Action Name\n",
      "shot            970\n",
      "blocked-shot     25\n",
      "carry-in          5\n",
      "Name: count, dtype: int64\n",
      "Min X Coord: -100, Max X Coord: 99, Range of X Coord: 199\n",
      "Min Y Coord: -50, Max Y Coord: 49, Range of Y Coord: 99\n"
     ]
    },
    {
     "data": {
      "image/png": "[encoded data removed]",
      "text/plain": [
       "<Figure size 1500x1000 with 3 Axes>"
      ]
     },
     "metadata": {},
     "output_type": "display_data"
    }
   ],
   "source": [
    "# Load the hockey action log as df_log\n",
    "df_log = pd.read_csv(log_file)\n",
    "\n",
    "# Print count of actions in df_log\n",
    "print(f\"Count of actions in df_log:\\n{df_log['Action Name'].value_counts()}\")\n",
    "\n",
    "# Print min and max of X Coord and Y Coord in df_log\n",
    "print(f\"Min X Coord: {df_log['X Coord'].min()}, Max X Coord: {df_log['X Coord'].max()}, Range of X Coord: {df_log['X Coord'].max() - df_log['X Coord'].min()}\")\n",
    "print(f\"Min Y Coord: {df_log['Y Coord'].min()}, Max Y Coord: {df_log['Y Coord'].max()}, Range of Y Coord: {df_log['Y Coord'].max() - df_log['Y Coord'].min()}\")\n",
    "\n",
    "# Plot heatmaps for each action type showing where on the rink the AI makes different plays\n",
    "plot_action_heatmaps(df_log)"
   ]
  },
  {
   "cell_type": "code",
   "execution_count": 32,
   "metadata": {},
   "outputs": [
    {
     "name": "stderr",
     "output_type": "stream",
     "text": [
      "/var/folders/mj/ndpf249j5rn7jzxyb81srz4w0000gn/T/ipykernel_13333/2632909045.py:96: UserWarning: To copy construct from a tensor, it is recommended to use sourceTensor.clone().detach() or sourceTensor.clone().detach().requires_grad_(True), rather than torch.tensor(sourceTensor).\n",
      "  state_tensor = torch.tensor(state, dtype=torch.float32).unsqueeze(0)\n"
     ]
    },
    {
     "name": "stdout",
     "output_type": "stream",
     "text": [
      "Episode 0 completed. Total Reward: 300\n",
      "Episode 1 completed. Total Reward: 300\n",
      "Episode 2 completed. Total Reward: 300\n",
      "Episode 3 completed. Total Reward: 300\n",
      "Episode 4 completed. Total Reward: 300\n",
      "Episode 5 completed. Total Reward: 300\n",
      "Episode 6 completed. Total Reward: 300\n",
      "Episode 7 completed. Total Reward: 300\n",
      "Episode 8 completed. Total Reward: 300\n",
      "Episode 9 completed. Total Reward: 300\n",
      "Simulation complete! Logged rewards per episode.\n"
     ]
    }
   ],
   "source": [
    "reward_log = []  # Store total reward per episode\n",
    "num_episodes = 10  # Number of episodes to simulate\n",
    "episode_length = 100  # Max steps per episode\n",
    "\n",
    "for episode in range(num_episodes):\n",
    "    # Reset environment for new episode and return first state\n",
    "    state = hockey_env_rl.reset()\n",
    "    state_tensor = torch.tensor(state, dtype=torch.float32).to(device)\n",
    "\n",
    "    done = False  # Episode completion flag\n",
    "    total_reward = 0  # Track cumulative reward for this episode\n",
    "    \n",
    "    for step in range(episode_length):  # Limit episode length\n",
    "        action = hockey_env_rl.predict_best_action(state_tensor)  # Predict best action\n",
    "        next_state, reward, done, _ = hockey_env_rl.step(action)\n",
    "\n",
    "        total_reward += reward  # Accumulate rewards\n",
    "        \n",
    "        # ✅ Fix: Update `state` to `next_state` for next iteration\n",
    "        state = next_state\n",
    "        state_tensor = torch.tensor(state, dtype=torch.float32).to(device)  # Move to device\n",
    "\n",
    "        if done:\n",
    "            break  # Stop episode if max steps reached\n",
    "\n",
    "    reward_log.append(total_reward)  # Store total reward for episode\n",
    "    print(f\"Episode {episode} completed. Total Reward: {total_reward}\")\n",
    "\n",
    "# Save reward log as CSV\n",
    "reward_df = pd.DataFrame(reward_log, columns=[\"Reward\"])\n",
    "timestamp = pd.Timestamp.now().strftime(\"%Y%m%d_%H%M%S\")\n",
    "reward_df.to_csv(f\"../outputs/hockey_reward_log_{timestamp}.csv\", index=False)\n",
    "\n",
    "print(\"Simulation complete! Logged rewards per episode.\")\n"
   ]
  },
  {
   "cell_type": "code",
   "execution_count": 33,
   "metadata": {},
   "outputs": [
    {
     "data": {
      "image/png": "[encoded data removed]",
      "text/plain": [
       "<Figure size 1000x500 with 1 Axes>"
      ]
     },
     "metadata": {},
     "output_type": "display_data"
    }
   ],
   "source": [
    "def plot_reward_progression(reward_log):\n",
    "    \"\"\"\n",
    "    Plot reward progression over training episodes.\n",
    "    \n",
    "    Parameters:\n",
    "        reward_log (list): List of cumulative rewards per episode.\n",
    "    \"\"\"\n",
    "    plt.figure(figsize=(10, 5))\n",
    "    plt.plot(reward_log, label=\"Total Reward per Episode\", color=\"blue\")\n",
    "    plt.axhline(y=np.mean(reward_log), color=\"red\", linestyle=\"--\", label=\"Average Reward\")\n",
    "    \n",
    "    plt.xlabel(\"Episode\")\n",
    "    plt.ylabel(\"Total Reward\")\n",
    "    plt.title(\"AI Learning Progress: Reward Progression\")\n",
    "    plt.legend()\n",
    "    plt.show()\n",
    "\n",
    "# Run this after training\n",
    "plot_reward_progression(reward_log)\n"
   ]
  },
  {
   "cell_type": "markdown",
   "metadata": {},
   "source": [
    "# **Section 4: Pre-Process Data** <a id=\"4\"></a>"
   ]
  },
  {
   "cell_type": "markdown",
   "metadata": {},
   "source": [
    "# **Section 5: Model** <a id=\"5\"></a>"
   ]
  },
  {
   "cell_type": "markdown",
   "metadata": {},
   "source": [
    "## **5.1. Model Definition** <a id=\"5.1\"></a>"
   ]
  },
  {
   "cell_type": "markdown",
   "metadata": {},
   "source": [
    "\n",
    "## **5.2. Model Training** <a id=\"5.2\"></a>"
   ]
  },
  {
   "cell_type": "markdown",
   "metadata": {},
   "source": [
    " ## **5.3. Model Evaluation** <a id=\"5.3\"></a>"
   ]
  }
 ],
 "metadata": {
  "kernelspec": {
   "display_name": "hockey_ai",
   "language": "python",
   "name": "python3"
  },
  "language_info": {
   "codemirror_mode": {
    "name": "ipython",
    "version": 3
   },
   "file_extension": ".py",
   "mimetype": "text/x-python",
   "name": "python",
   "nbconvert_exporter": "python",
   "pygments_lexer": "ipython3",
   "version": "3.13.2"
  }
 },
 "nbformat": 4,
 "nbformat_minor": 2
}
